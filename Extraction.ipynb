{
 "cells": [
  {
   "cell_type": "code",
   "execution_count": 2,
   "metadata": {},
   "outputs": [],
   "source": [
    "import cv2\n",
    "import os"
   ]
  },
  {
   "cell_type": "code",
   "execution_count": 11,
   "metadata": {},
   "outputs": [],
   "source": [
    "def rescaleImage(image_problem_area):\n",
    "    reshaped_image_test = cv2.resize(image_problem_area, dsize=(150, 150), interpolation=cv2.INTER_CUBIC)\n",
    "    return reshaped_image_test\n",
    "\n",
    "def findAreaImage(image_dir):\n",
    "    image = cv2.imread(image_dir)\n",
    "    gray_image = cv2.cvtColor(image, cv2.COLOR_BGR2GRAY)\n",
    "    otsu_threshold, image_result = cv2.threshold(gray_image, 0, 255, cv2.THRESH_BINARY + cv2.THRESH_OTSU)\n",
    "\n",
    "    contours, hierarchy = cv2.findContours(image_result, cv2.RETR_EXTERNAL, cv2.CHAIN_APPROX_NONE)\n",
    "\n",
    "    if len(contours) != 0:\n",
    "        # find the biggest countour (c) by the area\n",
    "        c = max(contours, key = cv2.contourArea)\n",
    "        x,y,w,h = cv2.boundingRect(c)\n",
    "\n",
    "        if (w-x) != (h-y):\n",
    "            if (w-x) > (h-y):\n",
    "                w = h\n",
    "            else:\n",
    "                h = w\n",
    "        \n",
    "        #save\n",
    "        problem_area = image[y:y+h, x:x+w]\n",
    "        problem_area = rescaleImage(problem_area)\n",
    "        cv2.imwrite(os.path.basename(image_dir), problem_area)\n",
    "\n",
    "        # draw the biggest contour (c) in green\n",
    "        cv2.rectangle(image, (x,y), (x+w,y+h), (0, 255, 255), 2)\n",
    "\n",
    "    return problem_area"
   ]
  },
  {
   "cell_type": "code",
   "execution_count": 3,
   "metadata": {},
   "outputs": [
    {
     "data": {
      "text/plain": [
       "(150, 150, 3)"
      ]
     },
     "execution_count": 3,
     "metadata": {},
     "output_type": "execute_result"
    }
   ],
   "source": [
    "dir_img = './Milia/4.jpg'\n",
    "\n",
    "problem_area = findAreaImage(dir_img)\n",
    "problem_area.shape"
   ]
  },
  {
   "cell_type": "code",
   "execution_count": 30,
   "metadata": {},
   "outputs": [
    {
     "ename": "error",
     "evalue": "OpenCV(4.7.0) D:\\a\\opencv-python\\opencv-python\\opencv\\modules\\imgproc\\src\\color.cpp:182: error: (-215:Assertion failed) !_src.empty() in function 'cv::cvtColor'\n",
     "output_type": "error",
     "traceback": [
      "\u001b[1;31m---------------------------------------------------------------------------\u001b[0m",
      "\u001b[1;31merror\u001b[0m                                     Traceback (most recent call last)",
      "Cell \u001b[1;32mIn[30], line 5\u001b[0m\n\u001b[0;32m      3\u001b[0m list_image \u001b[39m=\u001b[39m os\u001b[39m.\u001b[39mlistdir(path)\n\u001b[0;32m      4\u001b[0m \u001b[39mfor\u001b[39;00m i \u001b[39min\u001b[39;00m list_image:\n\u001b[1;32m----> 5\u001b[0m     findAreaImage(path \u001b[39m+\u001b[39;49m i)\n\u001b[0;32m      6\u001b[0m     \u001b[39mprint\u001b[39m(i \u001b[39m+\u001b[39m \u001b[39m'\u001b[39m\u001b[39msuccess\u001b[39m\u001b[39m'\u001b[39m)\n",
      "Cell \u001b[1;32mIn[11], line 7\u001b[0m, in \u001b[0;36mfindAreaImage\u001b[1;34m(image_dir)\u001b[0m\n\u001b[0;32m      5\u001b[0m \u001b[39mdef\u001b[39;00m \u001b[39mfindAreaImage\u001b[39m(image_dir):\n\u001b[0;32m      6\u001b[0m     image \u001b[39m=\u001b[39m cv2\u001b[39m.\u001b[39mimread(image_dir)\n\u001b[1;32m----> 7\u001b[0m     gray_image \u001b[39m=\u001b[39m cv2\u001b[39m.\u001b[39;49mcvtColor(image, cv2\u001b[39m.\u001b[39;49mCOLOR_BGR2GRAY)\n\u001b[0;32m      8\u001b[0m     otsu_threshold, image_result \u001b[39m=\u001b[39m cv2\u001b[39m.\u001b[39mthreshold(gray_image, \u001b[39m0\u001b[39m, \u001b[39m255\u001b[39m, cv2\u001b[39m.\u001b[39mTHRESH_BINARY \u001b[39m+\u001b[39m cv2\u001b[39m.\u001b[39mTHRESH_OTSU)\n\u001b[0;32m     10\u001b[0m     contours, hierarchy \u001b[39m=\u001b[39m cv2\u001b[39m.\u001b[39mfindContours(image_result, cv2\u001b[39m.\u001b[39mRETR_EXTERNAL, cv2\u001b[39m.\u001b[39mCHAIN_APPROX_NONE)\n",
      "\u001b[1;31merror\u001b[0m: OpenCV(4.7.0) D:\\a\\opencv-python\\opencv-python\\opencv\\modules\\imgproc\\src\\color.cpp:182: error: (-215:Assertion failed) !_src.empty() in function 'cv::cvtColor'\n"
     ]
    }
   ],
   "source": [
    "path = './Vitiligo (Namun)/'\n",
    "\n",
    "list_image = os.listdir(path)\n",
    "for i in list_image:\n",
    "    findAreaImage(path + i)\n",
    "    print(i + 'success')"
   ]
  },
  {
   "cell_type": "code",
   "execution_count": 31,
   "metadata": {},
   "outputs": [
    {
     "ename": "error",
     "evalue": "OpenCV(4.7.0) :-1: error: (-5:Bad argument) in function 'resize'\n> Overload resolution failed:\n>  - src is not a numpy array, neither a scalar\n>  - Expected Ptr<cv::UMat> for argument 'src'\n",
     "output_type": "error",
     "traceback": [
      "\u001b[1;31m---------------------------------------------------------------------------\u001b[0m",
      "\u001b[1;31merror\u001b[0m                                     Traceback (most recent call last)",
      "Cell \u001b[1;32mIn[31], line 1\u001b[0m\n\u001b[1;32m----> 1\u001b[0m cv2\u001b[39m.\u001b[39;49mresize(list_image[\u001b[39m0\u001b[39;49m], dsize\u001b[39m=\u001b[39;49m(\u001b[39m150\u001b[39;49m, \u001b[39m150\u001b[39;49m), interpolation\u001b[39m=\u001b[39;49mcv2\u001b[39m.\u001b[39;49mINTER_CUBIC)\n",
      "\u001b[1;31merror\u001b[0m: OpenCV(4.7.0) :-1: error: (-5:Bad argument) in function 'resize'\n> Overload resolution failed:\n>  - src is not a numpy array, neither a scalar\n>  - Expected Ptr<cv::UMat> for argument 'src'\n"
     ]
    }
   ],
   "source": [
    "cv2.resize(list_image[0], dsize=(150, 150), interpolation=cv2.INTER_CUBIC)"
   ]
  },
  {
   "cell_type": "code",
   "execution_count": 33,
   "metadata": {},
   "outputs": [
    {
     "name": "stdout",
     "output_type": "stream",
     "text": [
      "market vendor kasım kafa2 vitiligo face v2 (1).jpg\n"
     ]
    }
   ],
   "source": [
    "print(list_image[0])"
   ]
  },
  {
   "cell_type": "code",
   "execution_count": null,
   "metadata": {},
   "outputs": [],
   "source": []
  }
 ],
 "metadata": {
  "kernelspec": {
   "display_name": "Python 3",
   "language": "python",
   "name": "python3"
  },
  "language_info": {
   "codemirror_mode": {
    "name": "ipython",
    "version": 3
   },
   "file_extension": ".py",
   "mimetype": "text/x-python",
   "name": "python",
   "nbconvert_exporter": "python",
   "pygments_lexer": "ipython3",
   "version": "3.11.2"
  },
  "orig_nbformat": 4
 },
 "nbformat": 4,
 "nbformat_minor": 2
}
